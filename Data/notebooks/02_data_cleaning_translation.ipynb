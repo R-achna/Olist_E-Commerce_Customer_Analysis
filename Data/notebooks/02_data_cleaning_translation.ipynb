{
 "cells": [
  {
   "cell_type": "code",
   "execution_count": 1,
   "id": "4fcb48c4",
   "metadata": {},
   "outputs": [
    {
     "name": "stdout",
     "output_type": "stream",
     "text": [
      "CSV files found in the raw data folder:\n",
      "- olist_customers_dataset.csv\n",
      "- olist_geolocation_dataset.csv\n",
      "- olist_orders_dataset.csv\n",
      "- olist_order_items_dataset.csv\n",
      "- olist_order_payments_dataset.csv\n",
      "- olist_order_reviews_dataset.csv\n",
      "- olist_products_dataset.csv\n",
      "- olist_sellers_dataset.csv\n",
      "- product_category_name_translation.csv\n"
     ]
    }
   ],
   "source": [
    "import pandas as pd\n",
    "import numpy as np\n",
    "import matplotlib.pyplot as plt\n",
    "import seaborn as sns\n",
    "import os # For listing files\n",
    "import warnings\n",
    "\n",
    "# Configure pandas to display more rows/columns\n",
    "pd.set_option('display.max_columns', None)\n",
    "pd.set_option('display.max_rows', 100)\n",
    "pd.set_option('display.width', 1000)\n",
    "\n",
    "data_path = r\"C:\\Users\\HP\\Downloads\\archive\"\n",
    "#listing CSV files in the dataset\n",
    "print(\"CSV files found in the raw data folder:\")\n",
    "for file_name in os.listdir(data_path):\n",
    "    if file_name.endswith('.csv'):\n",
    "        print(f\"- {file_name}\")\n",
    "\n",
    "## Loading each CSV file into a separate pandas DataFrame\n",
    "customers_df = pd.read_csv(os.path.join(data_path, 'olist_customers_dataset.csv'))\n",
    "orders_df = pd.read_csv(os.path.join(data_path, 'olist_orders_dataset.csv'))\n",
    "order_items_df = pd.read_csv(os.path.join(data_path, 'olist_order_items_dataset.csv'))\n",
    "order_payments_df = pd.read_csv(os.path.join(data_path, 'olist_order_payments_dataset.csv'))\n",
    "products_df = pd.read_csv(os.path.join(data_path, 'olist_products_dataset.csv'))\n",
    "order_reviews_df = pd.read_csv(os.path.join(data_path, 'olist_order_reviews_dataset.csv'))\n",
    "product_category_translation_df = pd.read_csv(os.path.join(data_path, 'product_category_name_translation.csv'))"
   ]
  },
  {
   "cell_type": "code",
   "execution_count": 4,
   "id": "f0655066",
   "metadata": {},
   "outputs": [
    {
     "name": "stdout",
     "output_type": "stream",
     "text": [
      "\n",
      "Missing 'order_delivered_customer_date' after conversion:\n",
      "2965\n",
      "order_status\n",
      "delivered      96478\n",
      "shipped         1107\n",
      "canceled         625\n",
      "unavailable      609\n",
      "invoiced         314\n",
      "processing       301\n",
      "created            5\n",
      "approved           2\n",
      "Name: count, dtype: int64\n",
      "(96478, 8)\n",
      "0\n"
     ]
    }
   ],
   "source": [
    "# Cleaning orders df\n",
    "\n",
    "# Convert all order timestamp columns to datetime objects\n",
    "date_columns = [\n",
    "    'order_purchase_timestamp',\n",
    "    'order_approved_at',\n",
    "    'order_delivered_carrier_date',\n",
    "    'order_delivered_customer_date',\n",
    "    'order_estimated_delivery_date'\n",
    "]\n",
    "\n",
    "for col in date_columns:\n",
    "    # 'errors='coerce' will turn any dates that can't be parsed into NaT (Not a Time), which is like NaN for dates.\n",
    "    orders_df[col] = pd.to_datetime(orders_df[col], errors='coerce')\n",
    "\n",
    "# Checking how many missing values are in the delivery date column after conversion\n",
    "print(\"\\nMissing 'order_delivered_customer_date' after conversion:\")\n",
    "print(orders_df['order_delivered_customer_date'].isnull().sum())\n",
    "\n",
    "# For our analysis, we are most interested in *completed* orders.\n",
    "# 'delivered' orders are those that actually reached the customer.\n",
    "print(orders_df['order_status'].value_counts())\n",
    "\n",
    "# Filtering the orders_df to only include 'delivered' orders.\n",
    "delivered_orders_df = orders_df[orders_df['order_status'] == 'delivered'].copy()\n",
    "print(delivered_orders_df.shape)\n",
    "\n",
    "# Also check for any missing customer_id in these delivered orders, as customer_id is crucial.\n",
    "print(delivered_orders_df['customer_id'].isnull().sum())\n",
    "\n",
    "# If there are any missing 'customer_id' in delivered orders, it's best to drop them for CLTV.\n",
    "# 'inplace=True' means the change happens directly to delivered_orders_df\n",
    "if delivered_orders_df['customer_id'].isnull().sum() > 0:\n",
    "    delivered_orders_df.dropna(subset=['customer_id'], inplace=True)\n",
    "    print(delivered_orders_df.shape)\n"
   ]
  },
  {
   "cell_type": "code",
   "execution_count": null,
   "id": "5260b782",
   "metadata": {},
   "outputs": [],
   "source": []
  }
 ],
 "metadata": {
  "kernelspec": {
   "display_name": "Python 3",
   "language": "python",
   "name": "python3"
  },
  "language_info": {
   "codemirror_mode": {
    "name": "ipython",
    "version": 3
   },
   "file_extension": ".py",
   "mimetype": "text/x-python",
   "name": "python",
   "nbconvert_exporter": "python",
   "pygments_lexer": "ipython3",
   "version": "3.13.5"
  }
 },
 "nbformat": 4,
 "nbformat_minor": 5
}
